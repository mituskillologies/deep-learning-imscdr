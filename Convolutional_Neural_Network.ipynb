{
  "nbformat": 4,
  "nbformat_minor": 0,
  "metadata": {
    "colab": {
      "provenance": []
    },
    "kernelspec": {
      "name": "python3",
      "display_name": "Python 3"
    },
    "language_info": {
      "name": "python"
    },
    "accelerator": "GPU",
    "gpuClass": "standard"
  },
  "cells": [
    {
      "cell_type": "code",
      "execution_count": null,
      "metadata": {
        "id": "NH51D1zoaUPD"
      },
      "outputs": [],
      "source": [
        "from keras.datasets import mnist"
      ]
    },
    {
      "cell_type": "code",
      "source": [
        "# load the data\n",
        "(x_train, y_train),(x_test, y_test) = mnist.load_data()"
      ],
      "metadata": {
        "id": "blFOWbuNat20"
      },
      "execution_count": null,
      "outputs": []
    },
    {
      "cell_type": "code",
      "source": [
        "x_train.shape"
      ],
      "metadata": {
        "colab": {
          "base_uri": "https://localhost:8080/"
        },
        "id": "C8yZeLWJa10d",
        "outputId": "7c126172-0c31-4e9c-9ca2-cf13e318a1b3"
      },
      "execution_count": null,
      "outputs": [
        {
          "output_type": "execute_result",
          "data": {
            "text/plain": [
              "(60000, 28, 28)"
            ]
          },
          "metadata": {},
          "execution_count": 3
        }
      ]
    },
    {
      "cell_type": "code",
      "source": [
        "x_test.shape"
      ],
      "metadata": {
        "colab": {
          "base_uri": "https://localhost:8080/"
        },
        "id": "utaV5p4fa6Xh",
        "outputId": "bf4fae20-4444-4eb6-afd4-f81e3feddefa"
      },
      "execution_count": null,
      "outputs": [
        {
          "output_type": "execute_result",
          "data": {
            "text/plain": [
              "(10000, 28, 28)"
            ]
          },
          "metadata": {},
          "execution_count": 4
        }
      ]
    },
    {
      "cell_type": "code",
      "source": [
        "# Add the numbers of layers of colors in image\n",
        "x_train = x_train.reshape(-1, 28, 28, 1)\n",
        "x_test = x_test.reshape(-1, 28, 28, 1)"
      ],
      "metadata": {
        "id": "AvnYZo13a8cn"
      },
      "execution_count": null,
      "outputs": []
    },
    {
      "cell_type": "code",
      "source": [
        "x_train.shape"
      ],
      "metadata": {
        "colab": {
          "base_uri": "https://localhost:8080/"
        },
        "id": "jICySR-Rbdne",
        "outputId": "fd79d88f-1475-4852-f9f8-a5fa8c04af43"
      },
      "execution_count": null,
      "outputs": [
        {
          "output_type": "execute_result",
          "data": {
            "text/plain": [
              "(60000, 28, 28, 1)"
            ]
          },
          "metadata": {},
          "execution_count": 6
        }
      ]
    },
    {
      "cell_type": "code",
      "source": [
        "x_test.shape"
      ],
      "metadata": {
        "colab": {
          "base_uri": "https://localhost:8080/"
        },
        "id": "DiIVE-i9bfwM",
        "outputId": "7e373c7e-ac3a-4e26-cdb3-9fe12671896f"
      },
      "execution_count": null,
      "outputs": [
        {
          "output_type": "execute_result",
          "data": {
            "text/plain": [
              "(10000, 28, 28, 1)"
            ]
          },
          "metadata": {},
          "execution_count": 7
        }
      ]
    },
    {
      "cell_type": "code",
      "source": [
        "# Feature scaling\n",
        "x_train = x_train / 255\n",
        "x_test = x_test/ 255"
      ],
      "metadata": {
        "id": "T1935pdNbio2"
      },
      "execution_count": null,
      "outputs": []
    },
    {
      "cell_type": "code",
      "source": [
        "# import the classes\n",
        "from keras.models import Sequential\n",
        "from keras.layers import Dense, Conv2D, MaxPool2D, Flatten"
      ],
      "metadata": {
        "id": "A36OMgbEb2os"
      },
      "execution_count": null,
      "outputs": []
    },
    {
      "cell_type": "code",
      "source": [
        "# create the object of CNN\n",
        "model = Sequential()\n",
        "\n",
        "# add first convolution and pooling layer\n",
        "model.add(Conv2D(filters=32, input_shape = (28,28,1), activation='relu',\n",
        "                 kernel_size=(3,3)))\n",
        "model.add(MaxPool2D(pool_size=(2,2)))\n",
        "\n",
        "# add second convolution and pooling layer\n",
        "model.add(Conv2D(filters=64, activation='relu', kernel_size=(3,3)))\n",
        "model.add(MaxPool2D(pool_size=(2,2)))\n",
        "\n",
        "# add third convolution and pooling layer\n",
        "# model.add(Conv2D(filters=64, activation='relu', kernel_size=(3,3)))\n",
        "# model.add(MaxPool2D(pool_size=(2,2)))\n",
        "\n",
        "# Flatten the layers\n",
        "model.add(Flatten())\n",
        "\n",
        "# Add the hidden layer\n",
        "model.add(Dense(128, activation='relu'))\n",
        "\n",
        "# Add the output layer\n",
        "model.add(Dense(10, activation='softmax'))"
      ],
      "metadata": {
        "id": "Mw0VRS1YcLNr"
      },
      "execution_count": null,
      "outputs": []
    },
    {
      "cell_type": "code",
      "source": [
        "model.summary()"
      ],
      "metadata": {
        "colab": {
          "base_uri": "https://localhost:8080/"
        },
        "id": "iaMUsCR1cy3H",
        "outputId": "9019ae68-d669-4a8c-efed-1fe873539157"
      },
      "execution_count": null,
      "outputs": [
        {
          "output_type": "stream",
          "name": "stdout",
          "text": [
            "Model: \"sequential_2\"\n",
            "_________________________________________________________________\n",
            " Layer (type)                Output Shape              Param #   \n",
            "=================================================================\n",
            " conv2d_4 (Conv2D)           (None, 26, 26, 32)        320       \n",
            "                                                                 \n",
            " max_pooling2d_3 (MaxPooling  (None, 13, 13, 32)       0         \n",
            " 2D)                                                             \n",
            "                                                                 \n",
            " conv2d_5 (Conv2D)           (None, 11, 11, 64)        18496     \n",
            "                                                                 \n",
            " max_pooling2d_4 (MaxPooling  (None, 5, 5, 64)         0         \n",
            " 2D)                                                             \n",
            "                                                                 \n",
            " flatten_1 (Flatten)         (None, 1600)              0         \n",
            "                                                                 \n",
            " dense_2 (Dense)             (None, 128)               204928    \n",
            "                                                                 \n",
            " dense_3 (Dense)             (None, 10)                1290      \n",
            "                                                                 \n",
            "=================================================================\n",
            "Total params: 225,034\n",
            "Trainable params: 225,034\n",
            "Non-trainable params: 0\n",
            "_________________________________________________________________\n"
          ]
        }
      ]
    },
    {
      "cell_type": "code",
      "source": [
        "# compile the model\n",
        "model.compile(loss='sparse_categorical_crossentropy', optimizer='adam',\n",
        "              metrics=['accuracy'])"
      ],
      "metadata": {
        "id": "Nodi64U0dwp9"
      },
      "execution_count": null,
      "outputs": []
    },
    {
      "cell_type": "code",
      "source": [
        "# Train the algorithm\n",
        "model.fit(x_train, y_train, epochs=10, batch_size=20)"
      ],
      "metadata": {
        "colab": {
          "base_uri": "https://localhost:8080/"
        },
        "id": "Ru_M56KNeYsm",
        "outputId": "960c9a93-a329-4d24-d9af-ffc29279af17"
      },
      "execution_count": null,
      "outputs": [
        {
          "output_type": "stream",
          "name": "stdout",
          "text": [
            "Epoch 1/10\n",
            "3000/3000 [==============================] - 17s 3ms/step - loss: 0.1155 - accuracy: 0.9653\n",
            "Epoch 2/10\n",
            "3000/3000 [==============================] - 9s 3ms/step - loss: 0.0394 - accuracy: 0.9878\n",
            "Epoch 3/10\n",
            "3000/3000 [==============================] - 9s 3ms/step - loss: 0.0265 - accuracy: 0.9915\n",
            "Epoch 4/10\n",
            "3000/3000 [==============================] - 9s 3ms/step - loss: 0.0186 - accuracy: 0.9941\n",
            "Epoch 5/10\n",
            "3000/3000 [==============================] - 10s 3ms/step - loss: 0.0139 - accuracy: 0.9955\n",
            "Epoch 6/10\n",
            "3000/3000 [==============================] - 10s 3ms/step - loss: 0.0106 - accuracy: 0.9967\n",
            "Epoch 7/10\n",
            "3000/3000 [==============================] - 9s 3ms/step - loss: 0.0086 - accuracy: 0.9970\n",
            "Epoch 8/10\n",
            "3000/3000 [==============================] - 11s 4ms/step - loss: 0.0081 - accuracy: 0.9973\n",
            "Epoch 9/10\n",
            "3000/3000 [==============================] - 9s 3ms/step - loss: 0.0056 - accuracy: 0.9981\n",
            "Epoch 10/10\n",
            "3000/3000 [==============================] - 9s 3ms/step - loss: 0.0058 - accuracy: 0.9979\n"
          ]
        },
        {
          "output_type": "execute_result",
          "data": {
            "text/plain": [
              "<keras.callbacks.History at 0x7f559404eaf0>"
            ]
          },
          "metadata": {},
          "execution_count": 16
        }
      ]
    },
    {
      "cell_type": "code",
      "source": [
        "# Evaluate the algorithm on test / unseen data\n",
        "model.evaluate(x_test, y_test, batch_size=1)"
      ],
      "metadata": {
        "colab": {
          "base_uri": "https://localhost:8080/"
        },
        "id": "JOYxib34emSg",
        "outputId": "e213a06a-0687-4375-e07a-8377b15f5232"
      },
      "execution_count": null,
      "outputs": [
        {
          "output_type": "stream",
          "name": "stdout",
          "text": [
            "10000/10000 [==============================] - 22s 2ms/step - loss: 0.0476 - accuracy: 0.9910\n"
          ]
        },
        {
          "output_type": "execute_result",
          "data": {
            "text/plain": [
              "[0.047603901475667953, 0.9909999966621399]"
            ]
          },
          "metadata": {},
          "execution_count": 17
        }
      ]
    },
    {
      "cell_type": "code",
      "source": [
        "import matplotlib.pyplot as plt"
      ],
      "metadata": {
        "id": "4RHZPMJcfl-G"
      },
      "execution_count": null,
      "outputs": []
    },
    {
      "cell_type": "code",
      "source": [
        "plt.imshow(x_test[289].reshape(28,28))"
      ],
      "metadata": {
        "colab": {
          "base_uri": "https://localhost:8080/",
          "height": 282
        },
        "id": "uiyJuw96fP0t",
        "outputId": "f3ab85be-7896-4be7-a859-e13304ba3260"
      },
      "execution_count": null,
      "outputs": [
        {
          "output_type": "execute_result",
          "data": {
            "text/plain": [
              "<matplotlib.image.AxesImage at 0x7f558386cb20>"
            ]
          },
          "metadata": {},
          "execution_count": 24
        },
        {
          "output_type": "display_data",
          "data": {
            "text/plain": [
              "<Figure size 432x288 with 1 Axes>"
            ],
            "image/png": "[encoded data removed]"
          },
          "metadata": {
            "needs_background": "light"
          }
        }
      ]
    },
    {
      "cell_type": "code",
      "source": [
        "x_test[289].shape"
      ],
      "metadata": {
        "colab": {
          "base_uri": "https://localhost:8080/"
        },
        "id": "DyD6mbFufd1K",
        "outputId": "f59bcc4f-556b-404c-a37a-635e33dbd0f6"
      },
      "execution_count": null,
      "outputs": [
        {
          "output_type": "execute_result",
          "data": {
            "text/plain": [
              "(28, 28, 1)"
            ]
          },
          "metadata": {},
          "execution_count": 25
        }
      ]
    },
    {
      "cell_type": "code",
      "source": [
        "new = x_test[289].reshape(1,28,28,1)"
      ],
      "metadata": {
        "id": "CQU_vYgLf4zE"
      },
      "execution_count": null,
      "outputs": []
    },
    {
      "cell_type": "code",
      "source": [
        "pred = model.predict(new)"
      ],
      "metadata": {
        "colab": {
          "base_uri": "https://localhost:8080/"
        },
        "id": "MjYNwDkHfx_F",
        "outputId": "e49a3a41-cc89-4efa-c7a2-f80a9109874a"
      },
      "execution_count": null,
      "outputs": [
        {
          "output_type": "stream",
          "name": "stdout",
          "text": [
            "1/1 [==============================] - 0s 17ms/step\n"
          ]
        }
      ]
    },
    {
      "cell_type": "code",
      "source": [
        "import numpy as np\n",
        "np.argmax(pred)"
      ],
      "metadata": {
        "colab": {
          "base_uri": "https://localhost:8080/"
        },
        "id": "YSFVm-6Vf2Pb",
        "outputId": "a4a2b51b-6c0c-40da-833c-3cef2e628fa1"
      },
      "execution_count": null,
      "outputs": [
        {
          "output_type": "execute_result",
          "data": {
            "text/plain": [
              "5"
            ]
          },
          "metadata": {},
          "execution_count": 36
        }
      ]
    },
    {
      "cell_type": "code",
      "source": [],
      "metadata": {
        "id": "UdVxldGegRwu"
      },
      "execution_count": null,
      "outputs": []
    }
  ]
}