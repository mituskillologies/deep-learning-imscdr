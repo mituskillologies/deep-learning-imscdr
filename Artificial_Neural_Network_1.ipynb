{
  "nbformat": 4,
  "nbformat_minor": 0,
  "metadata": {
    "colab": {
      "provenance": []
    },
    "kernelspec": {
      "name": "python3",
      "display_name": "Python 3"
    },
    "language_info": {
      "name": "python"
    }
  },
  "cells": [
    {
      "cell_type": "code",
      "execution_count": null,
      "metadata": {
        "id": "cGhKk1osS_0E"
      },
      "outputs": [],
      "source": [
        "# ANN\n",
        "# Dataset: PIMA Indian Diabetes pima-new.csv\n",
        "# Location: https://mitu.co.in/dataset"
      ]
    },
    {
      "cell_type": "code",
      "source": [
        "import numpy as np\n",
        "import seaborn as sns"
      ],
      "metadata": {
        "id": "ag6Gu8q9Tke4"
      },
      "execution_count": null,
      "outputs": []
    },
    {
      "cell_type": "code",
      "source": [
        "data = np.loadtxt('pima-new.csv', delimiter=',')"
      ],
      "metadata": {
        "id": "mIVrU6ReU19k"
      },
      "execution_count": null,
      "outputs": []
    },
    {
      "cell_type": "code",
      "source": [
        "data"
      ],
      "metadata": {
        "colab": {
          "base_uri": "https://localhost:8080/"
        },
        "id": "qx2erLA8U9bn",
        "outputId": "c497942a-2aae-4a6e-8f76-7f6703ac1778"
      },
      "execution_count": null,
      "outputs": [
        {
          "output_type": "execute_result",
          "data": {
            "text/plain": [
              "array([[  6.   , 148.   ,  72.   , ...,   0.627,  50.   ,   1.   ],\n",
              "       [  1.   ,  85.   ,  66.   , ...,   0.351,  31.   ,   0.   ],\n",
              "       [  8.   , 183.   ,  64.   , ...,   0.672,  32.   ,   1.   ],\n",
              "       ...,\n",
              "       [  5.   , 121.   ,  72.   , ...,   0.245,  30.   ,   0.   ],\n",
              "       [  1.   , 126.   ,  60.   , ...,   0.349,  47.   ,   1.   ],\n",
              "       [  1.   ,  93.   ,  70.   , ...,   0.315,  23.   ,   0.   ]])"
            ]
          },
          "metadata": {},
          "execution_count": 5
        }
      ]
    },
    {
      "cell_type": "code",
      "source": [
        "data.shape"
      ],
      "metadata": {
        "colab": {
          "base_uri": "https://localhost:8080/"
        },
        "id": "_6C_zznSVaZw",
        "outputId": "8cd72992-6ccc-468a-b05f-45005c862b9e"
      },
      "execution_count": null,
      "outputs": [
        {
          "output_type": "execute_result",
          "data": {
            "text/plain": [
              "(768, 9)"
            ]
          },
          "metadata": {},
          "execution_count": 9
        }
      ]
    },
    {
      "cell_type": "code",
      "source": [
        "# input data\n",
        "x = data[:,:8]"
      ],
      "metadata": {
        "id": "NnPKJ1xfU_09"
      },
      "execution_count": null,
      "outputs": []
    },
    {
      "cell_type": "code",
      "source": [
        "x.shape"
      ],
      "metadata": {
        "colab": {
          "base_uri": "https://localhost:8080/"
        },
        "id": "0FCV3p0XVVyV",
        "outputId": "5f6cbdf1-13e6-4df7-a78e-a565238626a2"
      },
      "execution_count": null,
      "outputs": [
        {
          "output_type": "execute_result",
          "data": {
            "text/plain": [
              "(768, 8)"
            ]
          },
          "metadata": {},
          "execution_count": 12
        }
      ]
    },
    {
      "cell_type": "code",
      "source": [
        "# output data\n",
        "y = data[:,8]\n",
        "y.shape"
      ],
      "metadata": {
        "colab": {
          "base_uri": "https://localhost:8080/"
        },
        "id": "WkcfRd0CVWa0",
        "outputId": "7c0600dc-be34-4f2d-e326-b8cdf0f89bba"
      },
      "execution_count": null,
      "outputs": [
        {
          "output_type": "execute_result",
          "data": {
            "text/plain": [
              "(768,)"
            ]
          },
          "metadata": {},
          "execution_count": 13
        }
      ]
    },
    {
      "cell_type": "code",
      "source": [
        "np.unique(y)"
      ],
      "metadata": {
        "colab": {
          "base_uri": "https://localhost:8080/"
        },
        "id": "JSqCguz-VvE4",
        "outputId": "82ac9294-145c-4c5f-fd00-c107f91297b3"
      },
      "execution_count": null,
      "outputs": [
        {
          "output_type": "execute_result",
          "data": {
            "text/plain": [
              "array([0., 1.])"
            ]
          },
          "metadata": {},
          "execution_count": 15
        }
      ]
    },
    {
      "cell_type": "code",
      "source": [
        "# count the values in respective classes\n",
        "from collections import Counter\n",
        "Counter(y)"
      ],
      "metadata": {
        "colab": {
          "base_uri": "https://localhost:8080/"
        },
        "id": "YhfM6poCVw22",
        "outputId": "92a2fe43-da78-45b7-a055-2d3f7953ac2a"
      },
      "execution_count": null,
      "outputs": [
        {
          "output_type": "execute_result",
          "data": {
            "text/plain": [
              "Counter({1.0: 268, 0.0: 500})"
            ]
          },
          "metadata": {},
          "execution_count": 16
        }
      ]
    },
    {
      "cell_type": "code",
      "source": [
        "sns.countplot(x = y)"
      ],
      "metadata": {
        "colab": {
          "base_uri": "https://localhost:8080/",
          "height": 282
        },
        "id": "MWdfKd2ZWI2i",
        "outputId": "bb1c103f-422f-42f7-d064-fc04f936e4e0"
      },
      "execution_count": null,
      "outputs": [
        {
          "output_type": "execute_result",
          "data": {
            "text/plain": [
              "<matplotlib.axes._subplots.AxesSubplot at 0x7f4244bfc340>"
            ]
          },
          "metadata": {},
          "execution_count": 17
        },
        {
          "output_type": "display_data",
          "data": {
            "text/plain": [
              "<Figure size 432x288 with 1 Axes>"
            ],
            "image/png": "[encoded data removed]"
          },
          "metadata": {
            "needs_background": "light"
          }
        }
      ]
    },
    {
      "cell_type": "code",
      "source": [
        "# import the classes for building our neural network\n",
        "from keras.models import Sequential\n",
        "from keras.layers import Dense"
      ],
      "metadata": {
        "id": "RzTjNueoWQR3"
      },
      "execution_count": null,
      "outputs": []
    },
    {
      "cell_type": "code",
      "source": [
        "# Create the object of ANN\n",
        "model = Sequential()\n",
        "\n",
        "# Add the first layer\n",
        "model.add(Dense(12, input_dim=8, activation='relu'))\n",
        "\n",
        "# Add the hidden layer\n",
        "model.add(Dense(8, activation='relu'))\n",
        "\n",
        "# Add output layer\n",
        "model.add(Dense(1, activation='sigmoid'))"
      ],
      "metadata": {
        "id": "QgxJAIs0XG3A"
      },
      "execution_count": null,
      "outputs": []
    },
    {
      "cell_type": "code",
      "source": [
        "# Summarize\n",
        "model.summary()"
      ],
      "metadata": {
        "colab": {
          "base_uri": "https://localhost:8080/"
        },
        "id": "qIdSnwhLYCzQ",
        "outputId": "00b5ba44-3832-46bd-d721-1b3c2d28eb31"
      },
      "execution_count": null,
      "outputs": [
        {
          "output_type": "stream",
          "name": "stdout",
          "text": [
            "Model: \"sequential\"\n",
            "_________________________________________________________________\n",
            " Layer (type)                Output Shape              Param #   \n",
            "=================================================================\n",
            " dense (Dense)               (None, 12)                108       \n",
            "                                                                 \n",
            " dense_1 (Dense)             (None, 8)                 104       \n",
            "                                                                 \n",
            " dense_2 (Dense)             (None, 1)                 9         \n",
            "                                                                 \n",
            "=================================================================\n",
            "Total params: 221\n",
            "Trainable params: 221\n",
            "Non-trainable params: 0\n",
            "_________________________________________________________________\n"
          ]
        }
      ]
    },
    {
      "cell_type": "code",
      "source": [
        "# Compile the model\n",
        "model.compile(loss='binary_crossentropy', optimizer='adam', metrics=['accuracy'])"
      ],
      "metadata": {
        "id": "gZDMIWbHYNMs"
      },
      "execution_count": null,
      "outputs": []
    },
    {
      "cell_type": "code",
      "source": [
        "# Train the algorithm\n",
        "model.fit(x, y, epochs=200, batch_size=10)"
      ],
      "metadata": {
        "colab": {
          "base_uri": "https://localhost:8080/"
        },
        "id": "x8-E5HL1Y3mC",
        "outputId": "c2223bb6-595a-4173-f0bb-e9d6a5b35582"
      },
      "execution_count": null,
      "outputs": [
        {
          "output_type": "stream",
          "name": "stdout",
          "text": [
            "Epoch 1/200\n",
            "77/77 [==============================] - 1s 2ms/step - loss: 5.9275 - accuracy: 0.4661\n",
            "Epoch 2/200\n",
            "77/77 [==============================] - 0s 2ms/step - loss: 1.1196 - accuracy: 0.5964\n",
            "Epoch 3/200\n",
            "77/77 [==============================] - 0s 2ms/step - loss: 0.8925 - accuracy: 0.5768\n",
            "Epoch 4/200\n",
            "77/77 [==============================] - 0s 2ms/step - loss: 0.8166 - accuracy: 0.5924\n",
            "Epoch 5/200\n",
            "77/77 [==============================] - 0s 2ms/step - loss: 0.7749 - accuracy: 0.5885\n",
            "Epoch 6/200\n",
            "77/77 [==============================] - 0s 2ms/step - loss: 0.7410 - accuracy: 0.5820\n",
            "Epoch 7/200\n",
            "77/77 [==============================] - 0s 2ms/step - loss: 0.7149 - accuracy: 0.5938\n",
            "Epoch 8/200\n",
            "77/77 [==============================] - 0s 2ms/step - loss: 0.7038 - accuracy: 0.6198\n",
            "Epoch 9/200\n",
            "77/77 [==============================] - 0s 2ms/step - loss: 0.6935 - accuracy: 0.6198\n",
            "Epoch 10/200\n",
            "77/77 [==============================] - 0s 2ms/step - loss: 0.6789 - accuracy: 0.6302\n",
            "Epoch 11/200\n",
            "77/77 [==============================] - 0s 2ms/step - loss: 0.6620 - accuracy: 0.6289\n",
            "Epoch 12/200\n",
            "77/77 [==============================] - 0s 2ms/step - loss: 0.6404 - accuracy: 0.6406\n",
            "Epoch 13/200\n",
            "77/77 [==============================] - 0s 2ms/step - loss: 0.6568 - accuracy: 0.6276\n",
            "Epoch 14/200\n",
            "77/77 [==============================] - 0s 2ms/step - loss: 0.6582 - accuracy: 0.6445\n",
            "Epoch 15/200\n",
            "77/77 [==============================] - 0s 2ms/step - loss: 0.6422 - accuracy: 0.6432\n",
            "Epoch 16/200\n",
            "77/77 [==============================] - 0s 2ms/step - loss: 0.6240 - accuracy: 0.6576\n",
            "Epoch 17/200\n",
            "77/77 [==============================] - 0s 2ms/step - loss: 0.6444 - accuracy: 0.6693\n",
            "Epoch 18/200\n",
            "77/77 [==============================] - 0s 2ms/step - loss: 0.6192 - accuracy: 0.6745\n",
            "Epoch 19/200\n",
            "77/77 [==============================] - 0s 2ms/step - loss: 0.6301 - accuracy: 0.6641\n",
            "Epoch 20/200\n",
            "77/77 [==============================] - 0s 2ms/step - loss: 0.6327 - accuracy: 0.6576\n",
            "Epoch 21/200\n",
            "77/77 [==============================] - 0s 2ms/step - loss: 0.6132 - accuracy: 0.6745\n",
            "Epoch 22/200\n",
            "77/77 [==============================] - 0s 2ms/step - loss: 0.6179 - accuracy: 0.6732\n",
            "Epoch 23/200\n",
            "77/77 [==============================] - 0s 2ms/step - loss: 0.6100 - accuracy: 0.6706\n",
            "Epoch 24/200\n",
            "77/77 [==============================] - 0s 2ms/step - loss: 0.6246 - accuracy: 0.6432\n",
            "Epoch 25/200\n",
            "77/77 [==============================] - 0s 2ms/step - loss: 0.6115 - accuracy: 0.6810\n",
            "Epoch 26/200\n",
            "77/77 [==============================] - 0s 2ms/step - loss: 0.6011 - accuracy: 0.6797\n",
            "Epoch 27/200\n",
            "77/77 [==============================] - 0s 2ms/step - loss: 0.6040 - accuracy: 0.6849\n",
            "Epoch 28/200\n",
            "77/77 [==============================] - 0s 2ms/step - loss: 0.5982 - accuracy: 0.6797\n",
            "Epoch 29/200\n",
            "77/77 [==============================] - 0s 2ms/step - loss: 0.6065 - accuracy: 0.6745\n",
            "Epoch 30/200\n",
            "77/77 [==============================] - 0s 2ms/step - loss: 0.5918 - accuracy: 0.6771\n",
            "Epoch 31/200\n",
            "77/77 [==============================] - 0s 2ms/step - loss: 0.6179 - accuracy: 0.6576\n",
            "Epoch 32/200\n",
            "77/77 [==============================] - 0s 2ms/step - loss: 0.6090 - accuracy: 0.6732\n",
            "Epoch 33/200\n",
            "77/77 [==============================] - 0s 2ms/step - loss: 0.6016 - accuracy: 0.6615\n",
            "Epoch 34/200\n",
            "77/77 [==============================] - 0s 2ms/step - loss: 0.5950 - accuracy: 0.6758\n",
            "Epoch 35/200\n",
            "77/77 [==============================] - 0s 2ms/step - loss: 0.5987 - accuracy: 0.6810\n",
            "Epoch 36/200\n",
            "77/77 [==============================] - 0s 2ms/step - loss: 0.6049 - accuracy: 0.6784\n",
            "Epoch 37/200\n",
            "77/77 [==============================] - 0s 2ms/step - loss: 0.5865 - accuracy: 0.6875\n",
            "Epoch 38/200\n",
            "77/77 [==============================] - 0s 2ms/step - loss: 0.5919 - accuracy: 0.6901\n",
            "Epoch 39/200\n",
            "77/77 [==============================] - 0s 2ms/step - loss: 0.5974 - accuracy: 0.6771\n",
            "Epoch 40/200\n",
            "77/77 [==============================] - 0s 2ms/step - loss: 0.5906 - accuracy: 0.6758\n",
            "Epoch 41/200\n",
            "77/77 [==============================] - 0s 2ms/step - loss: 0.5944 - accuracy: 0.6810\n",
            "Epoch 42/200\n",
            "77/77 [==============================] - 0s 2ms/step - loss: 0.5888 - accuracy: 0.6823\n",
            "Epoch 43/200\n",
            "77/77 [==============================] - 0s 2ms/step - loss: 0.5969 - accuracy: 0.6745\n",
            "Epoch 44/200\n",
            "77/77 [==============================] - 0s 2ms/step - loss: 0.5820 - accuracy: 0.6888\n",
            "Epoch 45/200\n",
            "77/77 [==============================] - 0s 2ms/step - loss: 0.5977 - accuracy: 0.6836\n",
            "Epoch 46/200\n",
            "77/77 [==============================] - 0s 2ms/step - loss: 0.5951 - accuracy: 0.6758\n",
            "Epoch 47/200\n",
            "77/77 [==============================] - 0s 2ms/step - loss: 0.5822 - accuracy: 0.6875\n",
            "Epoch 48/200\n",
            "77/77 [==============================] - 0s 2ms/step - loss: 0.5863 - accuracy: 0.6823\n",
            "Epoch 49/200\n",
            "77/77 [==============================] - 0s 2ms/step - loss: 0.5814 - accuracy: 0.6966\n",
            "Epoch 50/200\n",
            "77/77 [==============================] - 0s 2ms/step - loss: 0.5916 - accuracy: 0.6862\n",
            "Epoch 51/200\n",
            "77/77 [==============================] - 0s 2ms/step - loss: 0.5762 - accuracy: 0.6979\n",
            "Epoch 52/200\n",
            "77/77 [==============================] - 0s 2ms/step - loss: 0.5913 - accuracy: 0.6927\n",
            "Epoch 53/200\n",
            "77/77 [==============================] - 0s 2ms/step - loss: 0.5762 - accuracy: 0.6836\n",
            "Epoch 54/200\n",
            "77/77 [==============================] - 0s 2ms/step - loss: 0.5945 - accuracy: 0.6823\n",
            "Epoch 55/200\n",
            "77/77 [==============================] - 0s 2ms/step - loss: 0.5771 - accuracy: 0.6888\n",
            "Epoch 56/200\n",
            "77/77 [==============================] - 0s 2ms/step - loss: 0.5807 - accuracy: 0.6979\n",
            "Epoch 57/200\n",
            "77/77 [==============================] - 0s 2ms/step - loss: 0.5863 - accuracy: 0.6732\n",
            "Epoch 58/200\n",
            "77/77 [==============================] - 0s 2ms/step - loss: 0.5855 - accuracy: 0.6927\n",
            "Epoch 59/200\n",
            "77/77 [==============================] - 0s 2ms/step - loss: 0.5850 - accuracy: 0.6914\n",
            "Epoch 60/200\n",
            "77/77 [==============================] - 0s 2ms/step - loss: 0.5788 - accuracy: 0.7018\n",
            "Epoch 61/200\n",
            "77/77 [==============================] - 0s 2ms/step - loss: 0.5715 - accuracy: 0.7031\n",
            "Epoch 62/200\n",
            "77/77 [==============================] - 0s 2ms/step - loss: 0.5653 - accuracy: 0.7109\n",
            "Epoch 63/200\n",
            "77/77 [==============================] - 0s 2ms/step - loss: 0.5720 - accuracy: 0.7044\n",
            "Epoch 64/200\n",
            "77/77 [==============================] - 0s 2ms/step - loss: 0.5623 - accuracy: 0.7240\n",
            "Epoch 65/200\n",
            "77/77 [==============================] - 0s 2ms/step - loss: 0.5776 - accuracy: 0.7005\n",
            "Epoch 66/200\n",
            "77/77 [==============================] - 0s 2ms/step - loss: 0.5817 - accuracy: 0.6901\n",
            "Epoch 67/200\n",
            "77/77 [==============================] - 0s 2ms/step - loss: 0.5609 - accuracy: 0.7214\n",
            "Epoch 68/200\n",
            "77/77 [==============================] - 0s 2ms/step - loss: 0.5810 - accuracy: 0.7031\n",
            "Epoch 69/200\n",
            "77/77 [==============================] - 0s 2ms/step - loss: 0.5720 - accuracy: 0.7214\n",
            "Epoch 70/200\n",
            "77/77 [==============================] - 0s 2ms/step - loss: 0.5637 - accuracy: 0.7161\n",
            "Epoch 71/200\n",
            "77/77 [==============================] - 0s 2ms/step - loss: 0.5592 - accuracy: 0.7135\n",
            "Epoch 72/200\n",
            "77/77 [==============================] - 0s 2ms/step - loss: 0.5790 - accuracy: 0.7005\n",
            "Epoch 73/200\n",
            "77/77 [==============================] - 0s 2ms/step - loss: 0.5494 - accuracy: 0.7227\n",
            "Epoch 74/200\n",
            "77/77 [==============================] - 0s 2ms/step - loss: 0.5604 - accuracy: 0.7201\n",
            "Epoch 75/200\n",
            "77/77 [==============================] - 0s 2ms/step - loss: 0.5620 - accuracy: 0.7188\n",
            "Epoch 76/200\n",
            "77/77 [==============================] - 0s 2ms/step - loss: 0.5530 - accuracy: 0.7201\n",
            "Epoch 77/200\n",
            "77/77 [==============================] - 0s 2ms/step - loss: 0.5540 - accuracy: 0.7266\n",
            "Epoch 78/200\n",
            "77/77 [==============================] - 0s 2ms/step - loss: 0.5492 - accuracy: 0.7331\n",
            "Epoch 79/200\n",
            "77/77 [==============================] - 0s 2ms/step - loss: 0.6013 - accuracy: 0.6927\n",
            "Epoch 80/200\n",
            "77/77 [==============================] - 0s 2ms/step - loss: 0.5507 - accuracy: 0.7331\n",
            "Epoch 81/200\n",
            "77/77 [==============================] - 0s 2ms/step - loss: 0.5509 - accuracy: 0.7370\n",
            "Epoch 82/200\n",
            "77/77 [==============================] - 0s 2ms/step - loss: 0.5461 - accuracy: 0.7344\n",
            "Epoch 83/200\n",
            "77/77 [==============================] - 0s 2ms/step - loss: 0.5604 - accuracy: 0.7266\n",
            "Epoch 84/200\n",
            "77/77 [==============================] - 0s 2ms/step - loss: 0.5487 - accuracy: 0.7357\n",
            "Epoch 85/200\n",
            "77/77 [==============================] - 0s 2ms/step - loss: 0.5574 - accuracy: 0.7214\n",
            "Epoch 86/200\n",
            "77/77 [==============================] - 0s 2ms/step - loss: 0.5458 - accuracy: 0.7305\n",
            "Epoch 87/200\n",
            "77/77 [==============================] - 0s 2ms/step - loss: 0.5477 - accuracy: 0.7253\n",
            "Epoch 88/200\n",
            "77/77 [==============================] - 0s 2ms/step - loss: 0.5430 - accuracy: 0.7201\n",
            "Epoch 89/200\n",
            "77/77 [==============================] - 0s 2ms/step - loss: 0.5492 - accuracy: 0.7240\n",
            "Epoch 90/200\n",
            "77/77 [==============================] - 0s 2ms/step - loss: 0.5453 - accuracy: 0.7383\n",
            "Epoch 91/200\n",
            "77/77 [==============================] - 0s 2ms/step - loss: 0.5392 - accuracy: 0.7240\n",
            "Epoch 92/200\n",
            "77/77 [==============================] - 0s 2ms/step - loss: 0.5432 - accuracy: 0.7266\n",
            "Epoch 93/200\n",
            "77/77 [==============================] - 0s 2ms/step - loss: 0.5504 - accuracy: 0.7122\n",
            "Epoch 94/200\n",
            "77/77 [==============================] - 0s 2ms/step - loss: 0.5375 - accuracy: 0.7539\n",
            "Epoch 95/200\n",
            "77/77 [==============================] - 0s 2ms/step - loss: 0.5411 - accuracy: 0.7188\n",
            "Epoch 96/200\n",
            "77/77 [==============================] - 0s 2ms/step - loss: 0.5360 - accuracy: 0.7357\n",
            "Epoch 97/200\n",
            "77/77 [==============================] - 0s 2ms/step - loss: 0.5296 - accuracy: 0.7370\n",
            "Epoch 98/200\n",
            "77/77 [==============================] - 0s 2ms/step - loss: 0.5384 - accuracy: 0.7370\n",
            "Epoch 99/200\n",
            "77/77 [==============================] - 0s 2ms/step - loss: 0.5362 - accuracy: 0.7305\n",
            "Epoch 100/200\n",
            "77/77 [==============================] - 0s 2ms/step - loss: 0.5370 - accuracy: 0.7253\n",
            "Epoch 101/200\n",
            "77/77 [==============================] - 0s 2ms/step - loss: 0.5395 - accuracy: 0.7357\n",
            "Epoch 102/200\n",
            "77/77 [==============================] - 0s 2ms/step - loss: 0.5403 - accuracy: 0.7279\n",
            "Epoch 103/200\n",
            "77/77 [==============================] - 0s 2ms/step - loss: 0.5431 - accuracy: 0.7305\n",
            "Epoch 104/200\n",
            "77/77 [==============================] - 0s 2ms/step - loss: 0.5330 - accuracy: 0.7383\n",
            "Epoch 105/200\n",
            "77/77 [==============================] - 0s 2ms/step - loss: 0.5372 - accuracy: 0.7383\n",
            "Epoch 106/200\n",
            "77/77 [==============================] - 0s 2ms/step - loss: 0.5334 - accuracy: 0.7448\n",
            "Epoch 107/200\n",
            "77/77 [==============================] - 0s 2ms/step - loss: 0.5331 - accuracy: 0.7279\n",
            "Epoch 108/200\n",
            "77/77 [==============================] - 0s 2ms/step - loss: 0.5443 - accuracy: 0.7253\n",
            "Epoch 109/200\n",
            "77/77 [==============================] - 0s 2ms/step - loss: 0.5389 - accuracy: 0.7318\n",
            "Epoch 110/200\n",
            "77/77 [==============================] - 0s 2ms/step - loss: 0.5352 - accuracy: 0.7266\n",
            "Epoch 111/200\n",
            "77/77 [==============================] - 0s 2ms/step - loss: 0.5384 - accuracy: 0.7565\n",
            "Epoch 112/200\n",
            "77/77 [==============================] - 0s 2ms/step - loss: 0.5279 - accuracy: 0.7253\n",
            "Epoch 113/200\n",
            "77/77 [==============================] - 0s 2ms/step - loss: 0.5248 - accuracy: 0.7487\n",
            "Epoch 114/200\n",
            "77/77 [==============================] - 0s 2ms/step - loss: 0.5221 - accuracy: 0.7409\n",
            "Epoch 115/200\n",
            "77/77 [==============================] - 0s 2ms/step - loss: 0.5225 - accuracy: 0.7435\n",
            "Epoch 116/200\n",
            "77/77 [==============================] - 0s 2ms/step - loss: 0.5215 - accuracy: 0.7630\n",
            "Epoch 117/200\n",
            "77/77 [==============================] - 0s 2ms/step - loss: 0.5207 - accuracy: 0.7435\n",
            "Epoch 118/200\n",
            "77/77 [==============================] - 0s 2ms/step - loss: 0.5302 - accuracy: 0.7305\n",
            "Epoch 119/200\n",
            "77/77 [==============================] - 0s 2ms/step - loss: 0.5314 - accuracy: 0.7422\n",
            "Epoch 120/200\n",
            "77/77 [==============================] - 0s 2ms/step - loss: 0.5252 - accuracy: 0.7487\n",
            "Epoch 121/200\n",
            "77/77 [==============================] - 0s 2ms/step - loss: 0.5230 - accuracy: 0.7461\n",
            "Epoch 122/200\n",
            "77/77 [==============================] - 0s 2ms/step - loss: 0.5363 - accuracy: 0.7422\n",
            "Epoch 123/200\n",
            "77/77 [==============================] - 0s 2ms/step - loss: 0.5189 - accuracy: 0.7409\n",
            "Epoch 124/200\n",
            "77/77 [==============================] - 0s 2ms/step - loss: 0.5210 - accuracy: 0.7435\n",
            "Epoch 125/200\n",
            "77/77 [==============================] - 0s 2ms/step - loss: 0.5130 - accuracy: 0.7487\n",
            "Epoch 126/200\n",
            "77/77 [==============================] - 0s 2ms/step - loss: 0.5183 - accuracy: 0.7578\n",
            "Epoch 127/200\n",
            "77/77 [==============================] - 0s 2ms/step - loss: 0.5148 - accuracy: 0.7383\n",
            "Epoch 128/200\n",
            "77/77 [==============================] - 0s 2ms/step - loss: 0.5201 - accuracy: 0.7370\n",
            "Epoch 129/200\n",
            "77/77 [==============================] - 0s 2ms/step - loss: 0.5122 - accuracy: 0.7617\n",
            "Epoch 130/200\n",
            "77/77 [==============================] - 0s 2ms/step - loss: 0.5105 - accuracy: 0.7448\n",
            "Epoch 131/200\n",
            "77/77 [==============================] - 0s 2ms/step - loss: 0.5194 - accuracy: 0.7370\n",
            "Epoch 132/200\n",
            "77/77 [==============================] - 0s 2ms/step - loss: 0.5239 - accuracy: 0.7370\n",
            "Epoch 133/200\n",
            "77/77 [==============================] - 0s 2ms/step - loss: 0.5122 - accuracy: 0.7578\n",
            "Epoch 134/200\n",
            "77/77 [==============================] - 0s 2ms/step - loss: 0.5085 - accuracy: 0.7656\n",
            "Epoch 135/200\n",
            "77/77 [==============================] - 0s 2ms/step - loss: 0.5208 - accuracy: 0.7331\n",
            "Epoch 136/200\n",
            "77/77 [==============================] - 0s 2ms/step - loss: 0.5204 - accuracy: 0.7318\n",
            "Epoch 137/200\n",
            "77/77 [==============================] - 0s 2ms/step - loss: 0.5080 - accuracy: 0.7422\n",
            "Epoch 138/200\n",
            "77/77 [==============================] - 0s 2ms/step - loss: 0.5038 - accuracy: 0.7617\n",
            "Epoch 139/200\n",
            "77/77 [==============================] - 0s 2ms/step - loss: 0.5054 - accuracy: 0.7539\n",
            "Epoch 140/200\n",
            "77/77 [==============================] - 0s 2ms/step - loss: 0.5025 - accuracy: 0.7617\n",
            "Epoch 141/200\n",
            "77/77 [==============================] - 0s 2ms/step - loss: 0.5211 - accuracy: 0.7539\n",
            "Epoch 142/200\n",
            "77/77 [==============================] - 0s 2ms/step - loss: 0.5169 - accuracy: 0.7396\n",
            "Epoch 143/200\n",
            "77/77 [==============================] - 0s 2ms/step - loss: 0.5089 - accuracy: 0.7565\n",
            "Epoch 144/200\n",
            "77/77 [==============================] - 0s 2ms/step - loss: 0.4960 - accuracy: 0.7578\n",
            "Epoch 145/200\n",
            "77/77 [==============================] - 0s 2ms/step - loss: 0.5070 - accuracy: 0.7539\n",
            "Epoch 146/200\n",
            "77/77 [==============================] - 0s 2ms/step - loss: 0.5174 - accuracy: 0.7461\n",
            "Epoch 147/200\n",
            "77/77 [==============================] - 0s 2ms/step - loss: 0.5097 - accuracy: 0.7539\n",
            "Epoch 148/200\n",
            "77/77 [==============================] - 0s 2ms/step - loss: 0.5040 - accuracy: 0.7552\n",
            "Epoch 149/200\n",
            "77/77 [==============================] - 0s 2ms/step - loss: 0.5043 - accuracy: 0.7526\n",
            "Epoch 150/200\n",
            "77/77 [==============================] - 0s 2ms/step - loss: 0.5010 - accuracy: 0.7604\n",
            "Epoch 151/200\n",
            "77/77 [==============================] - 0s 2ms/step - loss: 0.5081 - accuracy: 0.7461\n",
            "Epoch 152/200\n",
            "77/77 [==============================] - 0s 2ms/step - loss: 0.5058 - accuracy: 0.7578\n",
            "Epoch 153/200\n",
            "77/77 [==============================] - 0s 2ms/step - loss: 0.5054 - accuracy: 0.7565\n",
            "Epoch 154/200\n",
            "77/77 [==============================] - 0s 2ms/step - loss: 0.5203 - accuracy: 0.7396\n",
            "Epoch 155/200\n",
            "77/77 [==============================] - 0s 2ms/step - loss: 0.5058 - accuracy: 0.7565\n",
            "Epoch 156/200\n",
            "77/77 [==============================] - 0s 2ms/step - loss: 0.5017 - accuracy: 0.7617\n",
            "Epoch 157/200\n",
            "77/77 [==============================] - 0s 2ms/step - loss: 0.5022 - accuracy: 0.7409\n",
            "Epoch 158/200\n",
            "77/77 [==============================] - 0s 2ms/step - loss: 0.5029 - accuracy: 0.7513\n",
            "Epoch 159/200\n",
            "77/77 [==============================] - 0s 2ms/step - loss: 0.5003 - accuracy: 0.7513\n",
            "Epoch 160/200\n",
            "77/77 [==============================] - 0s 2ms/step - loss: 0.5141 - accuracy: 0.7500\n",
            "Epoch 161/200\n",
            "77/77 [==============================] - 0s 2ms/step - loss: 0.4977 - accuracy: 0.7526\n",
            "Epoch 162/200\n",
            "77/77 [==============================] - 0s 2ms/step - loss: 0.5120 - accuracy: 0.7526\n",
            "Epoch 163/200\n",
            "77/77 [==============================] - 0s 2ms/step - loss: 0.5034 - accuracy: 0.7526\n",
            "Epoch 164/200\n",
            "77/77 [==============================] - 0s 2ms/step - loss: 0.5068 - accuracy: 0.7539\n",
            "Epoch 165/200\n",
            "77/77 [==============================] - 0s 2ms/step - loss: 0.4976 - accuracy: 0.7630\n",
            "Epoch 166/200\n",
            "77/77 [==============================] - 0s 2ms/step - loss: 0.5134 - accuracy: 0.7409\n",
            "Epoch 167/200\n",
            "77/77 [==============================] - 0s 2ms/step - loss: 0.5039 - accuracy: 0.7487\n",
            "Epoch 168/200\n",
            "77/77 [==============================] - 0s 2ms/step - loss: 0.5027 - accuracy: 0.7552\n",
            "Epoch 169/200\n",
            "77/77 [==============================] - 0s 2ms/step - loss: 0.5041 - accuracy: 0.7461\n",
            "Epoch 170/200\n",
            "77/77 [==============================] - 0s 2ms/step - loss: 0.5005 - accuracy: 0.7474\n",
            "Epoch 171/200\n",
            "77/77 [==============================] - 0s 2ms/step - loss: 0.4972 - accuracy: 0.7578\n",
            "Epoch 172/200\n",
            "77/77 [==============================] - 0s 2ms/step - loss: 0.4935 - accuracy: 0.7734\n",
            "Epoch 173/200\n",
            "77/77 [==============================] - 0s 2ms/step - loss: 0.4971 - accuracy: 0.7526\n",
            "Epoch 174/200\n",
            "77/77 [==============================] - 0s 2ms/step - loss: 0.4964 - accuracy: 0.7565\n",
            "Epoch 175/200\n",
            "77/77 [==============================] - 0s 2ms/step - loss: 0.4983 - accuracy: 0.7552\n",
            "Epoch 176/200\n",
            "77/77 [==============================] - 0s 2ms/step - loss: 0.4898 - accuracy: 0.7565\n",
            "Epoch 177/200\n",
            "77/77 [==============================] - 0s 2ms/step - loss: 0.5002 - accuracy: 0.7461\n",
            "Epoch 178/200\n",
            "77/77 [==============================] - 0s 2ms/step - loss: 0.4944 - accuracy: 0.7474\n",
            "Epoch 179/200\n",
            "77/77 [==============================] - 0s 2ms/step - loss: 0.4910 - accuracy: 0.7422\n",
            "Epoch 180/200\n",
            "77/77 [==============================] - 0s 2ms/step - loss: 0.4953 - accuracy: 0.7630\n",
            "Epoch 181/200\n",
            "77/77 [==============================] - 0s 2ms/step - loss: 0.4996 - accuracy: 0.7422\n",
            "Epoch 182/200\n",
            "77/77 [==============================] - 0s 2ms/step - loss: 0.5046 - accuracy: 0.7552\n",
            "Epoch 183/200\n",
            "77/77 [==============================] - 0s 2ms/step - loss: 0.5188 - accuracy: 0.7383\n",
            "Epoch 184/200\n",
            "77/77 [==============================] - 0s 2ms/step - loss: 0.4999 - accuracy: 0.7409\n",
            "Epoch 185/200\n",
            "77/77 [==============================] - 0s 2ms/step - loss: 0.4997 - accuracy: 0.7500\n",
            "Epoch 186/200\n",
            "77/77 [==============================] - 0s 2ms/step - loss: 0.4955 - accuracy: 0.7539\n",
            "Epoch 187/200\n",
            "77/77 [==============================] - 0s 2ms/step - loss: 0.4989 - accuracy: 0.7474\n",
            "Epoch 188/200\n",
            "77/77 [==============================] - 0s 2ms/step - loss: 0.5026 - accuracy: 0.7474\n",
            "Epoch 189/200\n",
            "77/77 [==============================] - 0s 2ms/step - loss: 0.4866 - accuracy: 0.7669\n",
            "Epoch 190/200\n",
            "77/77 [==============================] - 0s 2ms/step - loss: 0.5061 - accuracy: 0.7474\n",
            "Epoch 191/200\n",
            "77/77 [==============================] - 0s 2ms/step - loss: 0.4996 - accuracy: 0.7630\n",
            "Epoch 192/200\n",
            "77/77 [==============================] - 0s 2ms/step - loss: 0.5063 - accuracy: 0.7565\n",
            "Epoch 193/200\n",
            "77/77 [==============================] - 0s 2ms/step - loss: 0.5267 - accuracy: 0.7448\n",
            "Epoch 194/200\n",
            "77/77 [==============================] - 0s 2ms/step - loss: 0.4910 - accuracy: 0.7604\n",
            "Epoch 195/200\n",
            "77/77 [==============================] - 0s 2ms/step - loss: 0.4882 - accuracy: 0.7643\n",
            "Epoch 196/200\n",
            "77/77 [==============================] - 0s 2ms/step - loss: 0.4895 - accuracy: 0.7487\n",
            "Epoch 197/200\n",
            "77/77 [==============================] - 0s 2ms/step - loss: 0.4966 - accuracy: 0.7604\n",
            "Epoch 198/200\n",
            "77/77 [==============================] - 0s 2ms/step - loss: 0.4925 - accuracy: 0.7656\n",
            "Epoch 199/200\n",
            "77/77 [==============================] - 0s 2ms/step - loss: 0.4823 - accuracy: 0.7643\n",
            "Epoch 200/200\n",
            "77/77 [==============================] - 0s 2ms/step - loss: 0.4855 - accuracy: 0.7604\n"
          ]
        },
        {
          "output_type": "execute_result",
          "data": {
            "text/plain": [
              "<keras.callbacks.History at 0x7f41ee82be50>"
            ]
          },
          "metadata": {},
          "execution_count": 22
        }
      ]
    },
    {
      "cell_type": "code",
      "source": [
        "# Evaluate\n",
        "model.evaluate(x, y)"
      ],
      "metadata": {
        "colab": {
          "base_uri": "https://localhost:8080/"
        },
        "id": "Alm6xfQCZoj9",
        "outputId": "423c1457-db65-4315-cd79-6bdc8b3defe4"
      },
      "execution_count": null,
      "outputs": [
        {
          "output_type": "stream",
          "name": "stdout",
          "text": [
            "24/24 [==============================] - 1s 4ms/step - loss: 0.4944 - accuracy: 0.7604\n"
          ]
        },
        {
          "output_type": "execute_result",
          "data": {
            "text/plain": [
              "[0.49441763758659363, 0.7604166865348816]"
            ]
          },
          "metadata": {},
          "execution_count": 23
        }
      ]
    },
    {
      "cell_type": "code",
      "source": [
        "# Prediction on unseen data\n",
        "new = [[7,475,82,69,120,22.2,0.645,57]]"
      ],
      "metadata": {
        "id": "rgK9blB6aDFg"
      },
      "execution_count": null,
      "outputs": []
    },
    {
      "cell_type": "code",
      "source": [
        "model.predict(new)"
      ],
      "metadata": {
        "colab": {
          "base_uri": "https://localhost:8080/"
        },
        "id": "AS-2BgHdaShP",
        "outputId": "20b79d37-90f2-4fce-9380-f2caa9dfc777"
      },
      "execution_count": null,
      "outputs": [
        {
          "output_type": "stream",
          "name": "stdout",
          "text": [
            "1/1 [==============================] - 0s 97ms/step\n"
          ]
        },
        {
          "output_type": "execute_result",
          "data": {
            "text/plain": [
              "array([[0.99850065]], dtype=float32)"
            ]
          },
          "metadata": {},
          "execution_count": 25
        }
      ]
    },
    {
      "cell_type": "code",
      "source": [
        "from keras.utils import plot_model"
      ],
      "metadata": {
        "id": "u-vt8Jexaa8U"
      },
      "execution_count": null,
      "outputs": []
    },
    {
      "cell_type": "code",
      "source": [
        "plot_model(model, show_shapes=True, show_layer_names=True,\n",
        "          to_file='neural_network.png')"
      ],
      "metadata": {
        "colab": {
          "base_uri": "https://localhost:8080/",
          "height": 422
        },
        "id": "l9c7sgxgaqQ7",
        "outputId": "10a0f33d-3899-4781-9ad4-cbfff88e547f"
      },
      "execution_count": null,
      "outputs": [
        {
          "output_type": "execute_result",
          "data": {
            "image/png": "[encoded data removed]",
            "text/plain": [
              "<IPython.core.display.Image object>"
            ]
          },
          "metadata": {},
          "execution_count": 27
        }
      ]
    },
    {
      "cell_type": "code",
      "source": [],
      "metadata": {
        "id": "r3u9CSX8axv_"
      },
      "execution_count": null,
      "outputs": []
    }
  ]
}